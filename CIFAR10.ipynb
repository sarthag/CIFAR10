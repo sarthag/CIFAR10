{
  "nbformat": 4,
  "nbformat_minor": 0,
  "metadata": {
    "colab": {
      "name": "CIFAR10.ipynb",
      "provenance": [],
      "collapsed_sections": [],
      "include_colab_link": true
    },
    "kernelspec": {
      "display_name": "Python 3",
      "language": "python",
      "name": "python3"
    },
    "language_info": {
      "codemirror_mode": {
        "name": "ipython",
        "version": 3
      },
      "file_extension": ".py",
      "mimetype": "text/x-python",
      "name": "python",
      "nbconvert_exporter": "python",
      "pygments_lexer": "ipython3",
      "version": "3.8.5"
    },
    "widgets": {
      "application/vnd.jupyter.widget-state+json": {
        "1e1fd472b511485ebe60a8e9a1f5a9c7": {
          "model_module": "@jupyter-widgets/controls",
          "model_name": "HBoxModel",
          "state": {
            "_view_name": "HBoxView",
            "_dom_classes": [],
            "_model_name": "HBoxModel",
            "_view_module": "@jupyter-widgets/controls",
            "_model_module_version": "1.5.0",
            "_view_count": null,
            "_view_module_version": "1.5.0",
            "box_style": "",
            "layout": "IPY_MODEL_28a930042f7145889fccf9f9fe90720f",
            "_model_module": "@jupyter-widgets/controls",
            "children": [
              "IPY_MODEL_806e9cd6d49a487da31c4f2b8e2ec98a",
              "IPY_MODEL_d938c6064a0c42c8ad436577cd6077d0"
            ]
          }
        },
        "28a930042f7145889fccf9f9fe90720f": {
          "model_module": "@jupyter-widgets/base",
          "model_name": "LayoutModel",
          "state": {
            "_view_name": "LayoutView",
            "grid_template_rows": null,
            "right": null,
            "justify_content": null,
            "_view_module": "@jupyter-widgets/base",
            "overflow": null,
            "_model_module_version": "1.2.0",
            "_view_count": null,
            "flex_flow": null,
            "width": null,
            "min_width": null,
            "border": null,
            "align_items": null,
            "bottom": null,
            "_model_module": "@jupyter-widgets/base",
            "top": null,
            "grid_column": null,
            "overflow_y": null,
            "overflow_x": null,
            "grid_auto_flow": null,
            "grid_area": null,
            "grid_template_columns": null,
            "flex": null,
            "_model_name": "LayoutModel",
            "justify_items": null,
            "grid_row": null,
            "max_height": null,
            "align_content": null,
            "visibility": null,
            "align_self": null,
            "height": null,
            "min_height": null,
            "padding": null,
            "grid_auto_rows": null,
            "grid_gap": null,
            "max_width": null,
            "order": null,
            "_view_module_version": "1.2.0",
            "grid_template_areas": null,
            "object_position": null,
            "object_fit": null,
            "grid_auto_columns": null,
            "margin": null,
            "display": null,
            "left": null
          }
        },
        "806e9cd6d49a487da31c4f2b8e2ec98a": {
          "model_module": "@jupyter-widgets/controls",
          "model_name": "FloatProgressModel",
          "state": {
            "_view_name": "ProgressView",
            "style": "IPY_MODEL_5db318da2b6848069960039d0d9b403a",
            "_dom_classes": [],
            "description": "",
            "_model_name": "FloatProgressModel",
            "bar_style": "success",
            "max": 170498071,
            "_view_module": "@jupyter-widgets/controls",
            "_model_module_version": "1.5.0",
            "value": 170498071,
            "_view_count": null,
            "_view_module_version": "1.5.0",
            "orientation": "horizontal",
            "min": 0,
            "description_tooltip": null,
            "_model_module": "@jupyter-widgets/controls",
            "layout": "IPY_MODEL_7647ff0ad39642e6a45db1a0c89fb086"
          }
        },
        "d938c6064a0c42c8ad436577cd6077d0": {
          "model_module": "@jupyter-widgets/controls",
          "model_name": "HTMLModel",
          "state": {
            "_view_name": "HTMLView",
            "style": "IPY_MODEL_4279a66f5cbb446dbb97cde209f8c115",
            "_dom_classes": [],
            "description": "",
            "_model_name": "HTMLModel",
            "placeholder": "​",
            "_view_module": "@jupyter-widgets/controls",
            "_model_module_version": "1.5.0",
            "value": " 170499072/? [3:25:50&lt;00:00, 13804.79it/s]",
            "_view_count": null,
            "_view_module_version": "1.5.0",
            "description_tooltip": null,
            "_model_module": "@jupyter-widgets/controls",
            "layout": "IPY_MODEL_b41009df046e42e094e8526cc76cf98d"
          }
        },
        "5db318da2b6848069960039d0d9b403a": {
          "model_module": "@jupyter-widgets/controls",
          "model_name": "ProgressStyleModel",
          "state": {
            "_view_name": "StyleView",
            "_model_name": "ProgressStyleModel",
            "description_width": "initial",
            "_view_module": "@jupyter-widgets/base",
            "_model_module_version": "1.5.0",
            "_view_count": null,
            "_view_module_version": "1.2.0",
            "bar_color": null,
            "_model_module": "@jupyter-widgets/controls"
          }
        },
        "7647ff0ad39642e6a45db1a0c89fb086": {
          "model_module": "@jupyter-widgets/base",
          "model_name": "LayoutModel",
          "state": {
            "_view_name": "LayoutView",
            "grid_template_rows": null,
            "right": null,
            "justify_content": null,
            "_view_module": "@jupyter-widgets/base",
            "overflow": null,
            "_model_module_version": "1.2.0",
            "_view_count": null,
            "flex_flow": null,
            "width": null,
            "min_width": null,
            "border": null,
            "align_items": null,
            "bottom": null,
            "_model_module": "@jupyter-widgets/base",
            "top": null,
            "grid_column": null,
            "overflow_y": null,
            "overflow_x": null,
            "grid_auto_flow": null,
            "grid_area": null,
            "grid_template_columns": null,
            "flex": null,
            "_model_name": "LayoutModel",
            "justify_items": null,
            "grid_row": null,
            "max_height": null,
            "align_content": null,
            "visibility": null,
            "align_self": null,
            "height": null,
            "min_height": null,
            "padding": null,
            "grid_auto_rows": null,
            "grid_gap": null,
            "max_width": null,
            "order": null,
            "_view_module_version": "1.2.0",
            "grid_template_areas": null,
            "object_position": null,
            "object_fit": null,
            "grid_auto_columns": null,
            "margin": null,
            "display": null,
            "left": null
          }
        },
        "4279a66f5cbb446dbb97cde209f8c115": {
          "model_module": "@jupyter-widgets/controls",
          "model_name": "DescriptionStyleModel",
          "state": {
            "_view_name": "StyleView",
            "_model_name": "DescriptionStyleModel",
            "description_width": "",
            "_view_module": "@jupyter-widgets/base",
            "_model_module_version": "1.5.0",
            "_view_count": null,
            "_view_module_version": "1.2.0",
            "_model_module": "@jupyter-widgets/controls"
          }
        },
        "b41009df046e42e094e8526cc76cf98d": {
          "model_module": "@jupyter-widgets/base",
          "model_name": "LayoutModel",
          "state": {
            "_view_name": "LayoutView",
            "grid_template_rows": null,
            "right": null,
            "justify_content": null,
            "_view_module": "@jupyter-widgets/base",
            "overflow": null,
            "_model_module_version": "1.2.0",
            "_view_count": null,
            "flex_flow": null,
            "width": null,
            "min_width": null,
            "border": null,
            "align_items": null,
            "bottom": null,
            "_model_module": "@jupyter-widgets/base",
            "top": null,
            "grid_column": null,
            "overflow_y": null,
            "overflow_x": null,
            "grid_auto_flow": null,
            "grid_area": null,
            "grid_template_columns": null,
            "flex": null,
            "_model_name": "LayoutModel",
            "justify_items": null,
            "grid_row": null,
            "max_height": null,
            "align_content": null,
            "visibility": null,
            "align_self": null,
            "height": null,
            "min_height": null,
            "padding": null,
            "grid_auto_rows": null,
            "grid_gap": null,
            "max_width": null,
            "order": null,
            "_view_module_version": "1.2.0",
            "grid_template_areas": null,
            "object_position": null,
            "object_fit": null,
            "grid_auto_columns": null,
            "margin": null,
            "display": null,
            "left": null
          }
        }
      }
    }
  },
  "cells": [
    {
      "cell_type": "markdown",
      "metadata": {
        "id": "view-in-github",
        "colab_type": "text"
      },
      "source": [
        "<a href=\"https://colab.research.google.com/github/sarthag/CIFAR10/blob/main/CIFAR10.ipynb\" target=\"_parent\"><img src=\"https://colab.research.google.com/assets/colab-badge.svg\" alt=\"Open In Colab\"/></a>"
      ]
    },
    {
      "cell_type": "code",
      "metadata": {
        "id": "Eo5v6h2iX3w2"
      },
      "source": [
        "import numpy as np\n",
        "import matplotlib.pyplot as plt\n",
        "%matplotlib inline\n",
        "import torch\n",
        "import torch.nn as nn\n",
        "import torch.optim as optim\n",
        "import torch.nn.functional as F\n",
        "import torchvision\n",
        "from torch.utils.data import DataLoader\n",
        "import torchvision.transforms as transforms\n",
        "import time"
      ],
      "execution_count": null,
      "outputs": []
    },
    {
      "cell_type": "code",
      "metadata": {
        "colab": {
          "base_uri": "https://localhost:8080/"
        },
        "id": "S7QM-92IYAFe",
        "outputId": "c996cd0e-eebc-4a55-9621-41a9b4c64fb0"
      },
      "source": [
        "from google.colab import drive\n",
        "import sys\n",
        "drive.mount('/content/gdrive')\n",
        "sys.path.append('/content/gdrive/MyDrive/CIFAR10') #need to fix the module importing "
      ],
      "execution_count": null,
      "outputs": [
        {
          "output_type": "stream",
          "text": [
            "Mounted at /content/gdrive\n"
          ],
          "name": "stdout"
        }
      ]
    },
    {
      "cell_type": "code",
      "metadata": {
        "id": "7lgs1iWyX3w8"
      },
      "source": [
        "transform = transforms.Compose(\n",
        "                [transforms.ToTensor(),\n",
        "                 transforms.Normalize((0.5,0.5,0.5), (0.5,0.5,0.5))\n",
        "                ])"
      ],
      "execution_count": null,
      "outputs": []
    },
    {
      "cell_type": "code",
      "metadata": {
        "id": "dWwtnGrfX3w-"
      },
      "source": [
        "in_channel = 3\n",
        "num_classes = 10\n",
        "learning_rate = 0.0005\n",
        "batch_size = 16\n",
        "num_epochs = 100"
      ],
      "execution_count": null,
      "outputs": []
    },
    {
      "cell_type": "code",
      "metadata": {
        "colab": {
          "base_uri": "https://localhost:8080/",
          "height": 116,
          "referenced_widgets": [
            "1e1fd472b511485ebe60a8e9a1f5a9c7",
            "28a930042f7145889fccf9f9fe90720f",
            "806e9cd6d49a487da31c4f2b8e2ec98a",
            "d938c6064a0c42c8ad436577cd6077d0",
            "5db318da2b6848069960039d0d9b403a",
            "7647ff0ad39642e6a45db1a0c89fb086",
            "4279a66f5cbb446dbb97cde209f8c115",
            "b41009df046e42e094e8526cc76cf98d"
          ]
        },
        "id": "yK71J8f9X3w_",
        "outputId": "1d8899c1-b90c-4ca6-8f28-4c947a943578"
      },
      "source": [
        "train_dataset = torchvision.datasets.CIFAR10(root = './data', train = True, download = True, transform = transform)\n",
        "test_dataset = torchvision.datasets.CIFAR10(root = './data', train = False, download = True, transform = transform)\n",
        "train_loader = DataLoader(train_dataset, batch_size = batch_size, shuffle = True)\n",
        "test_loader = DataLoader(test_dataset, batch_size = batch_size, shuffle = True)"
      ],
      "execution_count": null,
      "outputs": [
        {
          "output_type": "stream",
          "text": [
            "Downloading https://www.cs.toronto.edu/~kriz/cifar-10-python.tar.gz to ./data/cifar-10-python.tar.gz\n"
          ],
          "name": "stdout"
        },
        {
          "output_type": "display_data",
          "data": {
            "application/vnd.jupyter.widget-view+json": {
              "model_id": "1e1fd472b511485ebe60a8e9a1f5a9c7",
              "version_minor": 0,
              "version_major": 2
            },
            "text/plain": [
              "HBox(children=(FloatProgress(value=0.0, max=170498071.0), HTML(value='')))"
            ]
          },
          "metadata": {
            "tags": []
          }
        },
        {
          "output_type": "stream",
          "text": [
            "\n",
            "Extracting ./data/cifar-10-python.tar.gz to ./data\n",
            "Files already downloaded and verified\n"
          ],
          "name": "stdout"
        }
      ]
    },
    {
      "cell_type": "code",
      "metadata": {
        "id": "gqTjC9v6X3xB"
      },
      "source": [
        "def basic_test(Architecture):\n",
        "    start = time.process_time()\n",
        "    model = Architecture()\n",
        "    x = torch.randn(16,3,32,32)\n",
        "    print(model(x).shape)\n",
        "    end = time.process_time()\n",
        "    print(\"time: \", end-start)"
      ],
      "execution_count": null,
      "outputs": []
    },
    {
      "cell_type": "code",
      "metadata": {
        "id": "ozZc0PopX3xK"
      },
      "source": [
        "class Architecture1(nn.Module):\n",
        "    def __init__(self, num_classes = num_classes, in_channel = 3):\n",
        "        super(Architecture1, self).__init__()\n",
        "        self.conv1 = nn.Conv2d(in_channels = 3, out_channels = 8, kernel_size = 5, stride = 1, padding = 2)\n",
        "        self.conv2 = nn.Conv2d(in_channels = 8, out_channels = 16, kernel_size = 5, stride = 1, padding = 2)\n",
        "        self.conv3 = nn.Conv2d(in_channels = 16, out_channels = 32, kernel_size = 5, stride = 1, padding = 2)\n",
        "        self.pool = nn.MaxPool2d(kernel_size= (2,2), stride = (2,2))\n",
        "        self.fc1 = nn.Linear(32*4*4, 120)\n",
        "        self.output = nn.Linear(120, num_classes)\n",
        "        \n",
        "    def forward(self, x):\n",
        "        x = self.pool(F.relu(self.conv1(x))) #16\n",
        "        x = self.pool(F.relu(self.conv2(x))) #8\n",
        "        x = self.pool(F.relu(self.conv3(x))) #4\n",
        "        x = x.view(-1, x.shape[1]*x.shape[2]*x.shape[3])\n",
        "        x = F.relu(self.fc1(x))\n",
        "        x = self.output(x)\n",
        "        \n",
        "        return x"
      ],
      "execution_count": null,
      "outputs": []
    },
    {
      "cell_type": "code",
      "metadata": {
        "colab": {
          "base_uri": "https://localhost:8080/"
        },
        "id": "rSjBPea5X3xL",
        "outputId": "7f25f87b-3696-4a67-d441-e5adaeefc8a6"
      },
      "source": [
        "basic_test(Architecture1)"
      ],
      "execution_count": null,
      "outputs": [
        {
          "output_type": "stream",
          "text": [
            "torch.Size([16, 10])\n",
            "time:  0.018689850999999535\n"
          ],
          "name": "stdout"
        }
      ]
    },
    {
      "cell_type": "code",
      "metadata": {
        "id": "y3xk8_YKX3xP"
      },
      "source": [
        "class Architecture2(nn.Module):\n",
        "    def __init__(self, num_classes = num_classes, in_channel = 3):\n",
        "        super(Architecture2, self).__init__()\n",
        "        self.conv1 = nn.Conv2d(in_channels = 3, out_channels = 8, kernel_size = 3, stride = 1, padding = 1)\n",
        "        self.conv2 = nn.Conv2d(in_channels = 8, out_channels = 16, kernel_size = 3, stride = 1, padding = 1)\n",
        "        self.conv3 = nn.Conv2d(in_channels = 16, out_channels = 32, kernel_size = 5, stride = 1, padding = 2)\n",
        "        self.pool = nn.MaxPool2d(kernel_size= (2,2), stride = (2,2))\n",
        "        self.fc1 = nn.Linear(32*4*4, 120)\n",
        "        self.output = nn.Linear(120, num_classes)\n",
        "        \n",
        "    def forward(self, x):\n",
        "        x = self.pool(F.relu(self.conv1(x))) #16\n",
        "        x = self.pool(F.relu(self.conv2(x))) #8\n",
        "        x = self.pool(F.relu(self.conv3(x))) #4\n",
        "        x = x.view(-1, x.shape[1]*x.shape[2]*x.shape[3])\n",
        "        x = F.relu(self.fc1(x))\n",
        "        x = self.output(x)\n",
        "        \n",
        "        return x"
      ],
      "execution_count": null,
      "outputs": []
    },
    {
      "cell_type": "code",
      "metadata": {
        "colab": {
          "base_uri": "https://localhost:8080/"
        },
        "id": "ZukeH-4yX3xQ",
        "outputId": "4e5d91e0-56a4-44d1-8e97-0ab9fcc4d981"
      },
      "source": [
        "basic_test(Architecture2)"
      ],
      "execution_count": null,
      "outputs": [
        {
          "output_type": "stream",
          "text": [
            "torch.Size([16, 10])\n",
            "time:  0.009469259000001173\n"
          ],
          "name": "stdout"
        }
      ]
    },
    {
      "cell_type": "code",
      "metadata": {
        "id": "nYDURJaHX3xV"
      },
      "source": [
        "class Architecture3(nn.Module):\n",
        "    def __init__(self, num_classes = num_classes, in_channel = 3):\n",
        "        super(Architecture3, self).__init__()\n",
        "        self.conv1 = nn.Conv2d(in_channels = 3, out_channels = 8, kernel_size = 5, stride = 1, padding = 2)\n",
        "        self.conv2 = nn.Conv2d(in_channels = 8, out_channels = 16, kernel_size = 5, stride = 1, padding = 2)\n",
        "        self.conv3 = nn.Conv2d(in_channels = 16, out_channels = 32, kernel_size = 3, stride = 1, padding = 1)\n",
        "        self.pool = nn.MaxPool2d(kernel_size= (2,2), stride = (2,2))\n",
        "        self.fc1 = nn.Linear(32*4*4, 120)\n",
        "        self.fc2 = nn.Linear(120, 84)\n",
        "        self.output = nn.Linear(84, num_classes)\n",
        "        \n",
        "    def forward(self, x):\n",
        "        x = self.pool(F.relu(self.conv1(x))) #16\n",
        "        x = self.pool(F.relu(self.conv2(x))) #8\n",
        "        x = self.pool(F.relu(self.conv3(x))) #4\n",
        "        x = x.view(-1, x.shape[1]*x.shape[2]*x.shape[3])\n",
        "        x = F.relu(self.fc1(x))\n",
        "        x = F.relu(self.fc2(x))\n",
        "        x = self.output(x)\n",
        "        \n",
        "        return x"
      ],
      "execution_count": null,
      "outputs": []
    },
    {
      "cell_type": "code",
      "metadata": {
        "colab": {
          "base_uri": "https://localhost:8080/"
        },
        "id": "75Tb8o8AX3xV",
        "outputId": "a39b6b7e-558c-49dd-8cea-1962f7d27ed1"
      },
      "source": [
        "basic_test(Architecture3)"
      ],
      "execution_count": null,
      "outputs": [
        {
          "output_type": "stream",
          "text": [
            "torch.Size([16, 10])\n",
            "time:  0.009873068000000984\n"
          ],
          "name": "stdout"
        }
      ]
    },
    {
      "cell_type": "code",
      "metadata": {
        "id": "WFMUBiNVX3xW"
      },
      "source": [
        "loss_fun = nn.CrossEntropyLoss()"
      ],
      "execution_count": null,
      "outputs": []
    },
    {
      "cell_type": "code",
      "metadata": {
        "id": "kb9WRO0IX3xW"
      },
      "source": [
        "def check_accuracy(loader, model):\n",
        "    \n",
        "    num_correct = 0\n",
        "    num_samples = 0\n",
        "    model.eval()\n",
        "    \n",
        "    with torch.no_grad():\n",
        "        for x, y in loader:\n",
        "            scores = model(x)\n",
        "            predictions = scores.argmax(1)\n",
        "            num_correct += sum((predictions == y))\n",
        "            num_samples += predictions.size(0)\n",
        "            \n",
        "    return float(num_correct)/float(num_samples)"
      ],
      "execution_count": null,
      "outputs": []
    },
    {
      "cell_type": "code",
      "metadata": {
        "id": "g_-AjveVX3xX"
      },
      "source": [
        "def model_test(model):\n",
        "    model = model\n",
        "    optimizer = optim.Adam(model.parameters(), lr = learning_rate) \n",
        "    for epoch in range(num_epochs):\n",
        "        start = time.process_time()\n",
        "        loss_train = 0\n",
        "        for batch, (data,targets) in enumerate(train_loader):\n",
        "\n",
        "            #fw_prop\n",
        "            scores = model(data)\n",
        "            loss = loss_fun(scores, targets)\n",
        "\n",
        "            #bw_prop\n",
        "            optimizer.zero_grad()\n",
        "            loss.backward()\n",
        "            loss_train += loss.item()\n",
        "\n",
        "            #Optimizer\n",
        "            optimizer.step()\n",
        "        avg_epoch_loss = loss_train/(len(train_loader))\n",
        "        end = time.process_time()\n",
        "        exec_time = end-start\n",
        "        print('Epoch ({}/{}),Training loss : {}, Time:{}'.format(epoch+1,num_epochs,avg_epoch_loss,exec_time))\n",
        "        \n",
        "    print(\"accuracy: \", check_accuracy(train_loader, model))\n",
        "    return model"
      ],
      "execution_count": null,
      "outputs": []
    },
    {
      "cell_type": "code",
      "metadata": {
        "colab": {
          "base_uri": "https://localhost:8080/"
        },
        "id": "EVpqVRufmtDR",
        "outputId": "d585d255-455f-4909-96a3-df59999562cd"
      },
      "source": [
        "t1 = time.process_time()\n",
        "prelim1 = model_test(Architecture1())\n",
        "t2 = time.process_time()\n",
        "print(\"Total time: \", t2-t1)"
      ],
      "execution_count": null,
      "outputs": [
        {
          "output_type": "stream",
          "text": [
            "Epoch (1/100),Training loss : 1.5400535319709778, Time:36.838177566\n",
            "Epoch (2/100),Training loss : 1.176681277475357, Time:37.473556435999996\n",
            "Epoch (3/100),Training loss : 1.0186497174263, Time:37.419714295000006\n",
            "Epoch (4/100),Training loss : 0.9198260778903962, Time:37.00605273699999\n",
            "Epoch (5/100),Training loss : 0.84677586540699, Time:37.25461439699998\n",
            "Epoch (6/100),Training loss : 0.7847634663534164, Time:37.079242970999985\n",
            "Epoch (7/100),Training loss : 0.7356908819222451, Time:37.19799769900001\n",
            "Epoch (8/100),Training loss : 0.6897472673177719, Time:37.136718273999975\n",
            "Epoch (9/100),Training loss : 0.6518433056521415, Time:36.95782384399996\n",
            "Epoch (10/100),Training loss : 0.6092366298699379, Time:36.846032889000014\n",
            "Epoch (11/100),Training loss : 0.576672398828268, Time:36.635999431000016\n",
            "Epoch (12/100),Training loss : 0.5432141628101468, Time:36.47560265499999\n",
            "Epoch (13/100),Training loss : 0.5114823631894588, Time:36.589850259\n",
            "Epoch (14/100),Training loss : 0.4845656049931049, Time:36.750123254000016\n",
            "Epoch (15/100),Training loss : 0.45429046384841204, Time:36.53280445799999\n",
            "Epoch (16/100),Training loss : 0.43021659760475156, Time:36.355247720999955\n",
            "Epoch (17/100),Training loss : 0.4051429382258654, Time:36.5042563290001\n",
            "Epoch (18/100),Training loss : 0.38080188682436944, Time:36.68416180000008\n",
            "Epoch (19/100),Training loss : 0.3584621790903807, Time:37.41668641399997\n",
            "Epoch (20/100),Training loss : 0.3383093656480312, Time:37.18023116899997\n",
            "Epoch (21/100),Training loss : 0.3180004184252024, Time:37.76790802200003\n",
            "Epoch (22/100),Training loss : 0.3032481283530593, Time:38.30854602299996\n",
            "Epoch (23/100),Training loss : 0.2848854517659545, Time:38.949123962000044\n",
            "Epoch (24/100),Training loss : 0.2739864706273377, Time:39.25681819199997\n",
            "Epoch (25/100),Training loss : 0.2577815328232944, Time:39.59357955600001\n",
            "Epoch (26/100),Training loss : 0.24559454223193228, Time:39.770872987000075\n",
            "Epoch (27/100),Training loss : 0.2400975729378313, Time:40.01875067799995\n",
            "Epoch (28/100),Training loss : 0.21892093687847256, Time:39.89868383500004\n",
            "Epoch (29/100),Training loss : 0.21339995449714363, Time:39.706078424\n",
            "Epoch (30/100),Training loss : 0.20583390462931245, Time:40.17100391100007\n",
            "Epoch (31/100),Training loss : 0.1970869123289734, Time:40.10257344900015\n",
            "Epoch (32/100),Training loss : 0.18680685657415538, Time:40.43641884699991\n",
            "Epoch (33/100),Training loss : 0.1785515276764985, Time:40.97237723500007\n",
            "Epoch (34/100),Training loss : 0.1767700821699202, Time:41.06254855100019\n",
            "Epoch (35/100),Training loss : 0.1703678267133981, Time:40.411097489999975\n",
            "Epoch (36/100),Training loss : 0.16172792129108682, Time:40.28380486900005\n",
            "Epoch (37/100),Training loss : 0.16143860065363347, Time:40.15888235800003\n",
            "Epoch (38/100),Training loss : 0.15999382702200207, Time:40.34020221200012\n",
            "Epoch (39/100),Training loss : 0.14767291708167643, Time:40.33199241200009\n",
            "Epoch (40/100),Training loss : 0.14995275939793326, Time:40.263549326999964\n",
            "Epoch (41/100),Training loss : 0.14750332773293368, Time:40.27079695900011\n",
            "Epoch (42/100),Training loss : 0.140376967815347, Time:40.11379797599989\n",
            "Epoch (43/100),Training loss : 0.14714102775613602, Time:40.00747443899991\n",
            "Epoch (44/100),Training loss : 0.13568995893470012, Time:40.197720794999896\n",
            "Epoch (45/100),Training loss : 0.1353128637243621, Time:40.36312938999981\n",
            "Epoch (46/100),Training loss : 0.1394883181701158, Time:39.78851067699998\n",
            "Epoch (47/100),Training loss : 0.12485358787591104, Time:40.09235701800003\n",
            "Epoch (48/100),Training loss : 0.1317878147688415, Time:39.937796686999945\n",
            "Epoch (49/100),Training loss : 0.12890931468904018, Time:39.79931687399994\n",
            "Epoch (50/100),Training loss : 0.12175385803734418, Time:39.962484842000094\n",
            "Epoch (51/100),Training loss : 0.11971054474065779, Time:40.096447162000004\n",
            "Epoch (52/100),Training loss : 0.121557770630921, Time:39.87667101199986\n",
            "Epoch (53/100),Training loss : 0.1206837616776477, Time:39.935914952000076\n",
            "Epoch (54/100),Training loss : 0.11774683404067182, Time:39.70627851300014\n",
            "Epoch (55/100),Training loss : 0.1155264933910186, Time:40.11813058100006\n",
            "Epoch (56/100),Training loss : 0.11795364529561833, Time:39.895297088999996\n",
            "Epoch (57/100),Training loss : 0.11996264754024175, Time:39.830937104999975\n",
            "Epoch (58/100),Training loss : 0.11393102637081523, Time:40.09347328299964\n",
            "Epoch (59/100),Training loss : 0.1166077134963349, Time:40.14079302399978\n",
            "Epoch (60/100),Training loss : 0.10714882260447252, Time:40.188695025000015\n",
            "Epoch (61/100),Training loss : 0.11066406348193326, Time:40.21272178299978\n",
            "Epoch (62/100),Training loss : 0.11595873108082043, Time:39.9263728359997\n",
            "Epoch (63/100),Training loss : 0.11072456314274809, Time:39.9465197200002\n",
            "Epoch (64/100),Training loss : 0.10736796651950223, Time:39.82820723699979\n",
            "Epoch (65/100),Training loss : 0.10641947941789895, Time:40.20830714700014\n",
            "Epoch (66/100),Training loss : 0.10928654623183888, Time:40.169819653000104\n",
            "Epoch (67/100),Training loss : 0.10904826594415819, Time:39.70684415699998\n",
            "Epoch (68/100),Training loss : 0.09749135333810875, Time:39.73021767199998\n",
            "Epoch (69/100),Training loss : 0.10386531074007187, Time:40.321860775999994\n",
            "Epoch (70/100),Training loss : 0.10912474751874637, Time:40.21123383399981\n",
            "Epoch (71/100),Training loss : 0.10193634346301668, Time:40.27259422199995\n",
            "Epoch (72/100),Training loss : 0.10145319492572918, Time:40.05105103400001\n",
            "Epoch (73/100),Training loss : 0.10151749613934881, Time:40.184045118000085\n",
            "Epoch (74/100),Training loss : 0.10449576196935872, Time:40.02510761400026\n",
            "Epoch (75/100),Training loss : 0.09601090977707674, Time:40.57512686200016\n",
            "Epoch (76/100),Training loss : 0.10376074165928847, Time:39.77197632399975\n",
            "Epoch (77/100),Training loss : 0.09876546584302413, Time:39.93756645700023\n",
            "Epoch (78/100),Training loss : 0.09584666578002915, Time:39.661099106000165\n",
            "Epoch (79/100),Training loss : 0.10101793856147015, Time:39.62812668100014\n",
            "Epoch (80/100),Training loss : 0.10314635603916585, Time:39.808358388000215\n",
            "Epoch (81/100),Training loss : 0.09530570838870205, Time:39.84501136500012\n",
            "Epoch (82/100),Training loss : 0.09671161616486526, Time:39.92461653100008\n",
            "Epoch (83/100),Training loss : 0.09787504913292418, Time:39.950880840999616\n",
            "Epoch (84/100),Training loss : 0.09639942148943123, Time:39.89496236500008\n",
            "Epoch (85/100),Training loss : 0.08906555194439596, Time:39.82814528699964\n",
            "Epoch (86/100),Training loss : 0.09979293070029023, Time:40.727471286999844\n",
            "Epoch (87/100),Training loss : 0.09078670002070356, Time:40.269993799000076\n",
            "Epoch (88/100),Training loss : 0.09992336285146011, Time:40.287032671999896\n",
            "Epoch (89/100),Training loss : 0.0930712100477746, Time:40.62530599899992\n",
            "Epoch (90/100),Training loss : 0.09026908969353589, Time:40.44341648999989\n",
            "Epoch (91/100),Training loss : 0.09618583150194325, Time:40.60639417599987\n",
            "Epoch (92/100),Training loss : 0.09000457494784961, Time:40.90676853700006\n",
            "Epoch (93/100),Training loss : 0.09040475077619343, Time:40.867795489999935\n",
            "Epoch (94/100),Training loss : 0.09918848499825564, Time:40.871553231000235\n",
            "Epoch (95/100),Training loss : 0.09601506987064368, Time:41.11970923999979\n",
            "Epoch (96/100),Training loss : 0.08921169202473299, Time:41.13865760999988\n",
            "Epoch (97/100),Training loss : 0.09569114976611029, Time:41.10426280899992\n",
            "Epoch (98/100),Training loss : 0.09399548999052088, Time:41.807926295000016\n",
            "Epoch (99/100),Training loss : 0.08844296673113262, Time:41.90981141600014\n",
            "Epoch (100/100),Training loss : 0.0886205487968734, Time:41.80268458199998\n",
            "accuracy:  0.97782\n",
            "Total time:  3971.363150771\n"
          ],
          "name": "stdout"
        }
      ]
    },
    {
      "cell_type": "code",
      "metadata": {
        "id": "kcXp_D4Lmv6F",
        "colab": {
          "base_uri": "https://localhost:8080/"
        },
        "outputId": "1f863c95-82b3-4bf5-9e77-2b4a1dd65f8c"
      },
      "source": [
        "t1 = time.process_time()\n",
        "prelim2 = model_test(Architecture2())\n",
        "t2 = time.process_time()\n",
        "print(\"Total time: \", t2-t1)"
      ],
      "execution_count": null,
      "outputs": [
        {
          "output_type": "stream",
          "text": [
            "Epoch (1/100),Training loss : 1.5529216631698608, Time:32.53574016399989\n",
            "Epoch (2/100),Training loss : 1.231470044517517, Time:32.47905598999978\n",
            "Epoch (3/100),Training loss : 1.0917365889167785, Time:32.58090950699989\n",
            "Epoch (4/100),Training loss : 0.9906432021617889, Time:32.51626763000013\n",
            "Epoch (5/100),Training loss : 0.9146503470134735, Time:32.51414180200027\n",
            "Epoch (6/100),Training loss : 0.8527795765161514, Time:32.25898286699976\n",
            "Epoch (7/100),Training loss : 0.7967887655067444, Time:32.30826390200036\n",
            "Epoch (8/100),Training loss : 0.7501671705961227, Time:32.25525009800003\n",
            "Epoch (9/100),Training loss : 0.7117111773777008, Time:32.02299744099946\n",
            "Epoch (10/100),Training loss : 0.6732510753440857, Time:31.95604847300001\n",
            "Epoch (11/100),Training loss : 0.6376587969779969, Time:31.963600927000698\n",
            "Epoch (12/100),Training loss : 0.6062960350942612, Time:32.13303679300043\n",
            "Epoch (13/100),Training loss : 0.5762286661672592, Time:31.89300535199982\n",
            "Epoch (14/100),Training loss : 0.54735987906456, Time:31.917791871999725\n",
            "Epoch (15/100),Training loss : 0.519101322479248, Time:32.25781982999979\n",
            "Epoch (16/100),Training loss : 0.4936659242522716, Time:32.743004166999526\n",
            "Epoch (17/100),Training loss : 0.4665258454477787, Time:32.54946355799984\n",
            "Epoch (18/100),Training loss : 0.4449542719215155, Time:32.79542145600044\n",
            "Epoch (19/100),Training loss : 0.42169391644835474, Time:32.91184879699995\n",
            "Epoch (20/100),Training loss : 0.40242273412019014, Time:33.062266461000036\n",
            "Epoch (21/100),Training loss : 0.3803113208436966, Time:33.239862915999765\n",
            "Epoch (22/100),Training loss : 0.35750995773494243, Time:34.04503984300027\n",
            "Epoch (23/100),Training loss : 0.3428926233011484, Time:35.292093432\n",
            "Epoch (24/100),Training loss : 0.3229958577316999, Time:35.36436216899983\n",
            "Epoch (25/100),Training loss : 0.30925409616708754, Time:35.981531411000105\n",
            "Epoch (26/100),Training loss : 0.2884654802519083, Time:36.88203065200014\n",
            "Epoch (27/100),Training loss : 0.27493323840230705, Time:36.68517401400004\n",
            "Epoch (28/100),Training loss : 0.2610431724247336, Time:36.23938237499988\n",
            "Epoch (29/100),Training loss : 0.24714157509297133, Time:36.21659578500021\n",
            "Epoch (30/100),Training loss : 0.23722874636422842, Time:36.19566619500074\n",
            "Epoch (31/100),Training loss : 0.2229473020928353, Time:36.162373869000476\n",
            "Epoch (32/100),Training loss : 0.21497925116628408, Time:36.14390271100001\n",
            "Epoch (33/100),Training loss : 0.20252377330124377, Time:36.01491330999943\n",
            "Epoch (34/100),Training loss : 0.18968587541259826, Time:35.99503898600051\n",
            "Epoch (35/100),Training loss : 0.19125668386399747, Time:35.99722852099967\n",
            "Epoch (36/100),Training loss : 0.1785780097654462, Time:35.965512048000164\n",
            "Epoch (37/100),Training loss : 0.17009494670651853, Time:35.94070354899941\n",
            "Epoch (38/100),Training loss : 0.16569801137300208, Time:35.83765944300012\n",
            "Epoch (39/100),Training loss : 0.15934453039908783, Time:35.919640993999565\n",
            "Epoch (40/100),Training loss : 0.15411588077880442, Time:35.95704935499998\n",
            "Epoch (41/100),Training loss : 0.1485141666814452, Time:35.761506020000525\n",
            "Epoch (42/100),Training loss : 0.14597194450778886, Time:35.9048219819997\n",
            "Epoch (43/100),Training loss : 0.13695594184055923, Time:35.835252724000384\n",
            "Epoch (44/100),Training loss : 0.1389172983463807, Time:35.96545131499988\n",
            "Epoch (45/100),Training loss : 0.13203575637205503, Time:35.91744900200047\n",
            "Epoch (46/100),Training loss : 0.12835776774292812, Time:35.88333034900006\n",
            "Epoch (47/100),Training loss : 0.12678839645729226, Time:35.80563874700056\n",
            "Epoch (48/100),Training loss : 0.128115402962463, Time:35.911607007000384\n",
            "Epoch (49/100),Training loss : 0.11831546229936182, Time:35.91346355499991\n",
            "Epoch (50/100),Training loss : 0.12144497253321111, Time:36.12533839400021\n",
            "Epoch (51/100),Training loss : 0.11634351122268476, Time:36.21593370299979\n",
            "Epoch (52/100),Training loss : 0.11813842096239328, Time:36.406458583999665\n",
            "Epoch (53/100),Training loss : 0.11290003202786436, Time:36.28707510099957\n",
            "Epoch (54/100),Training loss : 0.10903470088043134, Time:36.03148213900022\n",
            "Epoch (55/100),Training loss : 0.10634328134372889, Time:35.85161349400005\n",
            "Epoch (56/100),Training loss : 0.10913460308392532, Time:35.71316265800033\n",
            "Epoch (57/100),Training loss : 0.10656743086500792, Time:36.20527916500032\n",
            "Epoch (58/100),Training loss : 0.1047403241119557, Time:35.86070595399997\n",
            "Epoch (59/100),Training loss : 0.10255451100112638, Time:35.977719954999884\n",
            "Epoch (60/100),Training loss : 0.096930057844189, Time:35.78615343000001\n",
            "Epoch (61/100),Training loss : 0.10291402278529073, Time:35.641434907000075\n",
            "Epoch (62/100),Training loss : 0.10201117831269396, Time:35.58295027699933\n",
            "Epoch (63/100),Training loss : 0.09633314565115841, Time:35.5748282680006\n",
            "Epoch (64/100),Training loss : 0.09784088988892385, Time:35.86083892200077\n",
            "Epoch (65/100),Training loss : 0.09447569148229144, Time:35.80663624299996\n",
            "Epoch (66/100),Training loss : 0.09914250407150364, Time:35.61294717100009\n",
            "Epoch (67/100),Training loss : 0.09703487642098364, Time:35.70236740400014\n",
            "Epoch (68/100),Training loss : 0.09261819758803234, Time:35.56561597600012\n",
            "Epoch (69/100),Training loss : 0.09312493265227648, Time:35.43393367899989\n",
            "Epoch (70/100),Training loss : 0.09075603723159292, Time:35.7018599969997\n",
            "Epoch (71/100),Training loss : 0.0879074766908634, Time:35.4556943789994\n",
            "Epoch (72/100),Training loss : 0.08831517924676911, Time:35.508589533000304\n",
            "Epoch (73/100),Training loss : 0.09304920792457522, Time:35.79575696499978\n",
            "Epoch (74/100),Training loss : 0.08571560181080976, Time:35.788232066999626\n",
            "Epoch (75/100),Training loss : 0.08755486591827008, Time:35.45299728200007\n",
            "Epoch (76/100),Training loss : 0.08908377172919718, Time:35.51003033300003\n",
            "Epoch (77/100),Training loss : 0.08934916230701957, Time:35.72168578899982\n",
            "Epoch (78/100),Training loss : 0.08457928135943192, Time:35.926524844000596\n",
            "Epoch (79/100),Training loss : 0.08798549242142574, Time:36.26473372000055\n",
            "Epoch (80/100),Training loss : 0.0834344355794118, Time:36.37205495800026\n",
            "Epoch (81/100),Training loss : 0.08117161159462746, Time:36.39486474000023\n",
            "Epoch (82/100),Training loss : 0.08419507401966592, Time:36.52569447600035\n",
            "Epoch (83/100),Training loss : 0.08025918180858731, Time:36.70267095200052\n",
            "Epoch (84/100),Training loss : 0.07905391189896908, Time:36.69116755499999\n",
            "Epoch (85/100),Training loss : 0.08025224668478798, Time:36.78172444500069\n",
            "Epoch (86/100),Training loss : 0.08020278903715196, Time:36.85220844499963\n",
            "Epoch (87/100),Training loss : 0.07970142066863191, Time:36.94669769800021\n",
            "Epoch (88/100),Training loss : 0.07940519616446458, Time:36.73347757400006\n",
            "Epoch (89/100),Training loss : 0.08075589194049422, Time:36.93729856899972\n",
            "Epoch (90/100),Training loss : 0.07684453154645599, Time:37.11670296600005\n",
            "Epoch (91/100),Training loss : 0.08051605784323732, Time:36.00727660400025\n",
            "Epoch (92/100),Training loss : 0.08321213825680461, Time:36.080652019999434\n",
            "Epoch (93/100),Training loss : 0.07422987968404253, Time:36.208160154000325\n",
            "Epoch (94/100),Training loss : 0.07849756441611967, Time:36.14644799500002\n",
            "Epoch (95/100),Training loss : 0.07540449103173295, Time:36.20209470400005\n",
            "Epoch (96/100),Training loss : 0.07706780850971438, Time:36.172759305\n",
            "Epoch (97/100),Training loss : 0.07726479784858264, Time:36.31189362199984\n",
            "Epoch (98/100),Training loss : 0.0717923986811274, Time:36.263232498000434\n",
            "Epoch (99/100),Training loss : 0.08136998105240889, Time:36.37885524000012\n",
            "Epoch (100/100),Training loss : 0.07721605818546544, Time:36.03725815600046\n",
            "accuracy:  0.97894\n",
            "Total time:  3545.254404341\n"
          ],
          "name": "stdout"
        }
      ]
    },
    {
      "cell_type": "code",
      "metadata": {
        "id": "RnkETWLjmxkD",
        "colab": {
          "base_uri": "https://localhost:8080/"
        },
        "outputId": "9e55bac6-5c51-4535-edaa-95d2c5a652a8"
      },
      "source": [
        "t1 = time.process_time()\n",
        "prelim3 = model_test(Architecture3())\n",
        "t2 = time.process_time()\n",
        "print(\"Total time: \", t2-t1)"
      ],
      "execution_count": null,
      "outputs": [
        {
          "output_type": "stream",
          "text": [
            "Epoch (1/100),Training loss : 1.5944657737731933, Time:35.61249239499921\n",
            "Epoch (2/100),Training loss : 1.2723376806259155, Time:35.925563764999424\n",
            "Epoch (3/100),Training loss : 1.1140238429927827, Time:35.98345769000025\n",
            "Epoch (4/100),Training loss : 1.0020751293182373, Time:35.960485246000644\n",
            "Epoch (5/100),Training loss : 0.9224431224679946, Time:35.753280524999354\n",
            "Epoch (6/100),Training loss : 0.8586114419984817, Time:36.18854103400008\n",
            "Epoch (7/100),Training loss : 0.8069331151580811, Time:35.840139789000204\n",
            "Epoch (8/100),Training loss : 0.7654355543994904, Time:35.72124048000023\n",
            "Epoch (9/100),Training loss : 0.7235511983752251, Time:35.85822074299995\n",
            "Epoch (10/100),Training loss : 0.6872760372066498, Time:35.824409621000086\n",
            "Epoch (11/100),Training loss : 0.6533809050893784, Time:35.839144504000615\n",
            "Epoch (12/100),Training loss : 0.6184472331213952, Time:35.77696208399993\n",
            "Epoch (13/100),Training loss : 0.5881413195943832, Time:35.946864181999445\n",
            "Epoch (14/100),Training loss : 0.5613671203637123, Time:36.005965064999145\n",
            "Epoch (15/100),Training loss : 0.5390140136790276, Time:36.26228133299992\n",
            "Epoch (16/100),Training loss : 0.5089257034754753, Time:36.316046096999344\n",
            "Epoch (17/100),Training loss : 0.4895777323448658, Time:36.62053440499949\n",
            "Epoch (18/100),Training loss : 0.4662937753981352, Time:36.81788944500022\n",
            "Epoch (19/100),Training loss : 0.44615209531605243, Time:36.96500298400042\n",
            "Epoch (20/100),Training loss : 0.426853765771389, Time:37.03883595699881\n",
            "Epoch (21/100),Training loss : 0.4095253757339716, Time:37.48205319199951\n",
            "Epoch (22/100),Training loss : 0.3925451502007246, Time:38.703728174999924\n",
            "Epoch (23/100),Training loss : 0.37403236506462095, Time:39.37245385999995\n",
            "Epoch (24/100),Training loss : 0.36044958946410566, Time:39.89225802599867\n",
            "Epoch (25/100),Training loss : 0.34151521614313124, Time:40.30684030399971\n",
            "Epoch (26/100),Training loss : 0.3304359562775493, Time:40.18232893000095\n",
            "Epoch (27/100),Training loss : 0.3153148090003431, Time:40.10525618199972\n",
            "Epoch (28/100),Training loss : 0.3048840132932365, Time:39.98292472100002\n",
            "Epoch (29/100),Training loss : 0.2935941285521165, Time:40.09336364400042\n",
            "Epoch (30/100),Training loss : 0.27945825143530967, Time:39.96424279299936\n",
            "Epoch (31/100),Training loss : 0.27197380024075507, Time:39.88437709799837\n",
            "Epoch (32/100),Training loss : 0.2684611775164306, Time:39.90976627800046\n",
            "Epoch (33/100),Training loss : 0.2513866016276926, Time:40.04640819300039\n",
            "Epoch (34/100),Training loss : 0.2474845259170234, Time:39.64354734399967\n",
            "Epoch (35/100),Training loss : 0.23526526621751487, Time:39.84263500099951\n",
            "Epoch (36/100),Training loss : 0.22985914219547063, Time:39.833123493999665\n",
            "Epoch (37/100),Training loss : 0.22316525685027241, Time:40.21985935900011\n",
            "Epoch (38/100),Training loss : 0.22049856000967324, Time:40.3342421640009\n",
            "Epoch (39/100),Training loss : 0.20836260627575218, Time:40.349612291000085\n",
            "Epoch (40/100),Training loss : 0.2046685121901147, Time:40.65193503699993\n",
            "Epoch (41/100),Training loss : 0.20356607717722655, Time:40.67553901899919\n",
            "Epoch (42/100),Training loss : 0.19557330898111686, Time:41.177436548001424\n",
            "Epoch (43/100),Training loss : 0.19130298931168394, Time:41.05046296200089\n",
            "Epoch (44/100),Training loss : 0.19071979348257184, Time:40.95483195700035\n",
            "Epoch (45/100),Training loss : 0.17859528530661017, Time:40.48764335099986\n",
            "Epoch (46/100),Training loss : 0.18097688814589755, Time:40.7425242090012\n",
            "Epoch (47/100),Training loss : 0.17586567620467394, Time:40.669453397000325\n",
            "Epoch (48/100),Training loss : 0.1759189111358719, Time:40.68561756099916\n",
            "Epoch (49/100),Training loss : 0.16576346322644503, Time:40.854231514000276\n",
            "Epoch (50/100),Training loss : 0.1670436086391285, Time:40.62418421400071\n",
            "Epoch (51/100),Training loss : 0.16126644018458203, Time:40.58134069699918\n",
            "Epoch (52/100),Training loss : 0.16253409119411372, Time:40.69535395799903\n",
            "Epoch (53/100),Training loss : 0.1585905449280236, Time:40.42483182499927\n",
            "Epoch (54/100),Training loss : 0.15614564554774202, Time:40.55141077799999\n",
            "Epoch (55/100),Training loss : 0.15877314260658343, Time:40.289336309000646\n",
            "Epoch (56/100),Training loss : 0.15396270119097083, Time:40.186967470001036\n",
            "Epoch (57/100),Training loss : 0.14921989505554434, Time:40.27996246800103\n",
            "Epoch (58/100),Training loss : 0.15100253507016692, Time:40.46058828399873\n",
            "Epoch (59/100),Training loss : 0.1496228458254924, Time:40.263012051998885\n",
            "Epoch (60/100),Training loss : 0.1394547218950186, Time:40.74742401000003\n",
            "Epoch (61/100),Training loss : 0.14251879345376045, Time:40.37569478499972\n",
            "Epoch (62/100),Training loss : 0.13956756783487276, Time:40.11250465000012\n",
            "Epoch (63/100),Training loss : 0.13844841652006143, Time:40.2025119179998\n",
            "Epoch (64/100),Training loss : 0.1363064810556639, Time:40.471010446000946\n",
            "Epoch (65/100),Training loss : 0.1332509219599003, Time:40.19370530000015\n",
            "Epoch (66/100),Training loss : 0.13783652859337628, Time:39.94857565300117\n",
            "Epoch (67/100),Training loss : 0.13296549154137494, Time:40.360706707000645\n",
            "Epoch (68/100),Training loss : 0.13435907009352, Time:40.213882435000414\n",
            "Epoch (69/100),Training loss : 0.12683509411915672, Time:40.177089727998464\n",
            "Epoch (70/100),Training loss : 0.12221703653053846, Time:40.46754945600151\n",
            "Epoch (71/100),Training loss : 0.12800373013121774, Time:40.11225718800051\n",
            "Epoch (72/100),Training loss : 0.12560463321435034, Time:40.1185328979991\n",
            "Epoch (73/100),Training loss : 0.1293938210369996, Time:40.15182346899928\n",
            "Epoch (74/100),Training loss : 0.12085945161605603, Time:40.23111293900001\n",
            "Epoch (75/100),Training loss : 0.12501915759808035, Time:40.31406648200027\n",
            "Epoch (76/100),Training loss : 0.12264217032421904, Time:40.166935465998904\n",
            "Epoch (77/100),Training loss : 0.11863869664598023, Time:40.205491050001\n",
            "Epoch (78/100),Training loss : 0.12585428104400867, Time:40.21511864900094\n",
            "Epoch (79/100),Training loss : 0.11926178230585298, Time:40.83162649299993\n",
            "Epoch (80/100),Training loss : 0.11997817784429528, Time:40.450515067001106\n",
            "Epoch (81/100),Training loss : 0.11190022265370003, Time:40.42319628500081\n",
            "Epoch (82/100),Training loss : 0.1158925604290259, Time:40.90463520999947\n",
            "Epoch (83/100),Training loss : 0.11818434333615586, Time:40.91262908399949\n",
            "Epoch (84/100),Training loss : 0.11965016930102546, Time:41.022913582999536\n",
            "Epoch (85/100),Training loss : 0.11239316619922407, Time:41.122411737998846\n",
            "Epoch (86/100),Training loss : 0.11708810817250283, Time:41.127740556999925\n",
            "Epoch (87/100),Training loss : 0.11357588406399999, Time:40.78228866099926\n",
            "Epoch (88/100),Training loss : 0.10942360432782676, Time:40.58526555299977\n",
            "Epoch (89/100),Training loss : 0.10848293928397558, Time:40.919031878998794\n",
            "Epoch (90/100),Training loss : 0.11556470508193831, Time:40.91351837700131\n",
            "Epoch (91/100),Training loss : 0.11543096275221848, Time:41.182736844999454\n",
            "Epoch (92/100),Training loss : 0.11010928393730428, Time:41.42754010099998\n",
            "Epoch (93/100),Training loss : 0.11188509646835129, Time:41.50561925299917\n",
            "Epoch (94/100),Training loss : 0.10662669530400454, Time:41.44975160899958\n",
            "Epoch (95/100),Training loss : 0.10915112365269568, Time:41.314670998999645\n",
            "Epoch (96/100),Training loss : 0.10448474170913338, Time:41.1257944379995\n",
            "Epoch (97/100),Training loss : 0.11018896476725058, Time:41.26177218799967\n",
            "Epoch (98/100),Training loss : 0.10729521090934246, Time:41.44960425499994\n",
            "Epoch (99/100),Training loss : 0.1060255048156483, Time:41.2710692189994\n",
            "Epoch (100/100),Training loss : 0.10818790398775484, Time:41.483152058001\n",
            "accuracy:  0.98146\n",
            "Total time:  3979.4426349309997\n"
          ],
          "name": "stdout"
        }
      ]
    },
    {
      "cell_type": "code",
      "metadata": {
        "colab": {
          "base_uri": "https://localhost:8080/"
        },
        "id": "y6le2zTB877o",
        "outputId": "046b6a00-8a26-439f-95cb-ace90a7742d9"
      },
      "source": [
        "#for test\n",
        "model = prelim3\n",
        "print(\"accuracy: \", check_accuracy(test_loader, model))"
      ],
      "execution_count": null,
      "outputs": [
        {
          "output_type": "stream",
          "text": [
            "accuracy:  0.6588\n"
          ],
          "name": "stdout"
        }
      ]
    },
    {
      "cell_type": "code",
      "metadata": {
        "colab": {
          "base_uri": "https://localhost:8080/"
        },
        "id": "11VVRu2G88Um",
        "outputId": "8ba5c216-a97c-4024-815e-2da91e71e547"
      },
      "source": [
        "model = prelim2\n",
        "print(\"accuracy: \", check_accuracy(test_loader, model))"
      ],
      "execution_count": null,
      "outputs": [
        {
          "output_type": "stream",
          "text": [
            "accuracy:  0.6659\n"
          ],
          "name": "stdout"
        }
      ]
    },
    {
      "cell_type": "code",
      "metadata": {
        "colab": {
          "base_uri": "https://localhost:8080/"
        },
        "id": "3sEm4pYQCC4f",
        "outputId": "b5b50532-b8be-4891-a375-c272a18e339d"
      },
      "source": [
        "model = prelim1\n",
        "print(\"accuracy: \", check_accuracy(test_loader, model))"
      ],
      "execution_count": null,
      "outputs": [
        {
          "output_type": "stream",
          "text": [
            "accuracy:  0.6659\n"
          ],
          "name": "stdout"
        }
      ]
    }
  ]
}